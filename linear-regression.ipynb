{
 "cells": [
  {
   "cell_type": "code",
   "execution_count": 38,
   "metadata": {},
   "outputs": [],
   "source": [
    "import pandas as pd\n",
    "import matplotlib.pyplot as plt\n",
    "from scipy.stats import t"
   ]
  },
  {
   "cell_type": "code",
   "execution_count": 39,
   "metadata": {},
   "outputs": [
    {
     "data": {
      "text/html": [
       "<div>\n",
       "<style scoped>\n",
       "    .dataframe tbody tr th:only-of-type {\n",
       "        vertical-align: middle;\n",
       "    }\n",
       "\n",
       "    .dataframe tbody tr th {\n",
       "        vertical-align: top;\n",
       "    }\n",
       "\n",
       "    .dataframe thead th {\n",
       "        text-align: right;\n",
       "    }\n",
       "</style>\n",
       "<table border=\"1\" class=\"dataframe\">\n",
       "  <thead>\n",
       "    <tr style=\"text-align: right;\">\n",
       "      <th></th>\n",
       "      <th>year</th>\n",
       "      <th>gnp</th>\n",
       "      <th>invest</th>\n",
       "      <th>cpi</th>\n",
       "      <th>interest</th>\n",
       "    </tr>\n",
       "  </thead>\n",
       "  <tbody>\n",
       "    <tr>\n",
       "      <th>0</th>\n",
       "      <td>1968</td>\n",
       "      <td>873.4</td>\n",
       "      <td>133.3</td>\n",
       "      <td>82.54</td>\n",
       "      <td>5.16</td>\n",
       "    </tr>\n",
       "    <tr>\n",
       "      <th>1</th>\n",
       "      <td>1969</td>\n",
       "      <td>944.0</td>\n",
       "      <td>149.3</td>\n",
       "      <td>86.79</td>\n",
       "      <td>5.87</td>\n",
       "    </tr>\n",
       "    <tr>\n",
       "      <th>2</th>\n",
       "      <td>1970</td>\n",
       "      <td>992.7</td>\n",
       "      <td>144.2</td>\n",
       "      <td>91.45</td>\n",
       "      <td>5.95</td>\n",
       "    </tr>\n",
       "    <tr>\n",
       "      <th>3</th>\n",
       "      <td>1971</td>\n",
       "      <td>1077.6</td>\n",
       "      <td>166.4</td>\n",
       "      <td>96.01</td>\n",
       "      <td>4.88</td>\n",
       "    </tr>\n",
       "    <tr>\n",
       "      <th>4</th>\n",
       "      <td>1972</td>\n",
       "      <td>1185.9</td>\n",
       "      <td>195.0</td>\n",
       "      <td>100.00</td>\n",
       "      <td>4.50</td>\n",
       "    </tr>\n",
       "  </tbody>\n",
       "</table>\n",
       "</div>"
      ],
      "text/plain": [
       "   year     gnp  invest     cpi  interest\n",
       "0  1968   873.4   133.3   82.54      5.16\n",
       "1  1969   944.0   149.3   86.79      5.87\n",
       "2  1970   992.7   144.2   91.45      5.95\n",
       "3  1971  1077.6   166.4   96.01      4.88\n",
       "4  1972  1185.9   195.0  100.00      4.50"
      ]
     },
     "execution_count": 39,
     "metadata": {},
     "output_type": "execute_result"
    }
   ],
   "source": [
    "invest = pd.read_csv(\"invest.csv\", delimiter=\" \")\n",
    "invest.head()"
   ]
  },
  {
   "cell_type": "code",
   "execution_count": 40,
   "metadata": {},
   "outputs": [
    {
     "data": {
      "image/png": "[encoded data removed]",
      "text/plain": [
       "<Figure size 640x480 with 1 Axes>"
      ]
     },
     "metadata": {},
     "output_type": "display_data"
    }
   ],
   "source": [
    "plt.scatter(invest[\"gnp\"], invest[\"invest\"])\n",
    "plt.xlabel(\"GDP\")\n",
    "plt.ylabel(\"Investment\")\n",
    "plt.show()"
   ]
  },
  {
   "cell_type": "code",
   "execution_count": 41,
   "metadata": {},
   "outputs": [
    {
     "data": {
      "text/html": [
       "<div>\n",
       "<style scoped>\n",
       "    .dataframe tbody tr th:only-of-type {\n",
       "        vertical-align: middle;\n",
       "    }\n",
       "\n",
       "    .dataframe tbody tr th {\n",
       "        vertical-align: top;\n",
       "    }\n",
       "\n",
       "    .dataframe thead th {\n",
       "        text-align: right;\n",
       "    }\n",
       "</style>\n",
       "<table border=\"1\" class=\"dataframe\">\n",
       "  <thead>\n",
       "    <tr style=\"text-align: right;\">\n",
       "      <th></th>\n",
       "      <th>year</th>\n",
       "      <th>gnp</th>\n",
       "      <th>invest</th>\n",
       "      <th>cpi</th>\n",
       "      <th>interest</th>\n",
       "      <th>gnp_log</th>\n",
       "      <th>invest_log</th>\n",
       "    </tr>\n",
       "  </thead>\n",
       "  <tbody>\n",
       "    <tr>\n",
       "      <th>0</th>\n",
       "      <td>1968</td>\n",
       "      <td>873.4</td>\n",
       "      <td>133.3</td>\n",
       "      <td>82.54</td>\n",
       "      <td>5.16</td>\n",
       "      <td>6.772394</td>\n",
       "      <td>4.892602</td>\n",
       "    </tr>\n",
       "    <tr>\n",
       "      <th>1</th>\n",
       "      <td>1969</td>\n",
       "      <td>944.0</td>\n",
       "      <td>149.3</td>\n",
       "      <td>86.79</td>\n",
       "      <td>5.87</td>\n",
       "      <td>6.850126</td>\n",
       "      <td>5.005958</td>\n",
       "    </tr>\n",
       "    <tr>\n",
       "      <th>2</th>\n",
       "      <td>1970</td>\n",
       "      <td>992.7</td>\n",
       "      <td>144.2</td>\n",
       "      <td>91.45</td>\n",
       "      <td>5.95</td>\n",
       "      <td>6.900429</td>\n",
       "      <td>4.971201</td>\n",
       "    </tr>\n",
       "    <tr>\n",
       "      <th>3</th>\n",
       "      <td>1971</td>\n",
       "      <td>1077.6</td>\n",
       "      <td>166.4</td>\n",
       "      <td>96.01</td>\n",
       "      <td>4.88</td>\n",
       "      <td>6.982492</td>\n",
       "      <td>5.114395</td>\n",
       "    </tr>\n",
       "    <tr>\n",
       "      <th>4</th>\n",
       "      <td>1972</td>\n",
       "      <td>1185.9</td>\n",
       "      <td>195.0</td>\n",
       "      <td>100.00</td>\n",
       "      <td>4.50</td>\n",
       "      <td>7.078257</td>\n",
       "      <td>5.273000</td>\n",
       "    </tr>\n",
       "  </tbody>\n",
       "</table>\n",
       "</div>"
      ],
      "text/plain": [
       "   year     gnp  invest     cpi  interest   gnp_log  invest_log\n",
       "0  1968   873.4   133.3   82.54      5.16  6.772394    4.892602\n",
       "1  1969   944.0   149.3   86.79      5.87  6.850126    5.005958\n",
       "2  1970   992.7   144.2   91.45      5.95  6.900429    4.971201\n",
       "3  1971  1077.6   166.4   96.01      4.88  6.982492    5.114395\n",
       "4  1972  1185.9   195.0  100.00      4.50  7.078257    5.273000"
      ]
     },
     "execution_count": 41,
     "metadata": {},
     "output_type": "execute_result"
    }
   ],
   "source": [
    "# log transformation\n",
    "import numpy as np\n",
    "invest[\"gnp_log\"] = np.log(invest[\"gnp\"])\n",
    "invest[\"invest_log\"] = np.log(invest[\"invest\"])\n",
    "invest.head()"
   ]
  },
  {
   "cell_type": "code",
   "execution_count": 42,
   "metadata": {},
   "outputs": [
    {
     "data": {
      "image/png": "[encoded data removed]",
      "text/plain": [
       "<Figure size 640x480 with 1 Axes>"
      ]
     },
     "metadata": {},
     "output_type": "display_data"
    }
   ],
   "source": [
    "plt.scatter(invest[\"gnp_log\"], invest[\"invest_log\"])\n",
    "plt.xlabel(\"log GDP\")\n",
    "plt.ylabel(\"log Investment\")\n",
    "plt.show()"
   ]
  },
  {
   "cell_type": "code",
   "execution_count": 43,
   "metadata": {},
   "outputs": [
    {
     "name": "stdout",
     "output_type": "stream",
     "text": [
      "The intercept is:  -1.9635913352301815\n",
      "The slope is:  1.015281401598871\n",
      "The standard deviation of the intercept is:  0.40954727166230726\n",
      "The standard deviation of the slope is:  0.05538306035485269\n",
      "The determination coefficient is:  0.9627572956057854\n",
      "---------------------------------------------------------------------\n",
      "The estimated regression line is: invest =  -1.9635913352301815  +  1.015281401598871  * gnp\n",
      "The standard deviation of the intercept is:  0.40954727166230726\n",
      "The standard deviation of the slope is:  0.05538306035485269\n",
      "The determination coefficient is:  0.9627572956057854\n"
     ]
    }
   ],
   "source": [
    "#  estimating the intercept and the slope :\n",
    "b1 = np.sum((invest[\"gnp_log\"] - invest[\"gnp_log\"].mean()) * (invest[\"invest_log\"] - invest[\"invest_log\"].mean())) / np.sum((invest[\"gnp_log\"] - invest[\"gnp_log\"].mean()) ** 2)\n",
    "b0 = invest[\"invest_log\"].mean() - b1 * invest[\"gnp_log\"].mean()\n",
    "\n",
    "# estimator of sigma squared\n",
    "sigma2 = np.sum((invest[\"invest_log\"] - b0 - b1 * invest[\"gnp_log\"]) ** 2) / (len(invest[\"invest_log\"]) - 2)\n",
    "\n",
    "# standard deviation of the intercept and the slope\n",
    "var_b0 = sigma2 * ((1 / len(invest[\"invest_log\"]) ) + invest[\"gnp_log\"].mean() ** 2 / np.sum((invest[\"gnp_log\"] - invest[\"gnp_log\"].mean()) ** 2))\n",
    "var_b1 = sigma2 / np.sum((invest[\"gnp_log\"] - invest[\"gnp_log\"].mean()) ** 2)\n",
    "\n",
    "# printing the results\n",
    "print(\"The intercept is: \", b0)\n",
    "print(\"The slope is: \", b1)\n",
    "print(\"The standard deviation of the intercept is: \", np.sqrt(var_b0))\n",
    "print(\"The standard deviation of the slope is: \", np.sqrt(var_b1))\n",
    "\n",
    "# determination coefficient\n",
    "R2 = np.sum((b0 + b1 * invest[\"gnp_log\"] - invest[\"invest_log\"].mean()) ** 2) / np.sum((invest[\"invest_log\"] - invest[\"invest_log\"].mean()) ** 2)\n",
    "print(\"The determination coefficient is: \", R2)\n",
    "\n",
    "# Output them in a readable form\n",
    "print(\"---------------------------------------------------------------------\")\n",
    "print(\"The estimated regression line is: invest = \", b0, \" + \", b1, \" * gnp\")\n",
    "print(\"The standard deviation of the intercept is: \", np.sqrt(var_b0))\n",
    "print(\"The standard deviation of the slope is: \", np.sqrt(var_b1))\n",
    "print(\"The determination coefficient is: \", R2)"
   ]
  },
  {
   "cell_type": "markdown",
   "metadata": {},
   "source": [
    "    4)"
   ]
  },
  {
   "cell_type": "markdown",
   "metadata": {},
   "source": [
    "    NB : We reject H0 with confidence leve 1-alpha if alpha > p_value"
   ]
  },
  {
   "cell_type": "code",
   "execution_count": 44,
   "metadata": {},
   "outputs": [
    {
     "name": "stdout",
     "output_type": "stream",
     "text": [
      "The t-test is:  18.33198445686672\n",
      "The p-value is:  1.1363709973011282e-10\n"
     ]
    }
   ],
   "source": [
    "# t_test\n",
    "t_test = b1 / np.sqrt(var_b1)\n",
    "print(\"The t-test is: \", t_test)\n",
    "\n",
    "# p-value of the slope test \n",
    "p_value = (1 - t.cdf(t_test, len(invest[\"invest_log\"]) - 2)) * 2\n",
    "print(\"The p-value is: \", p_value)\n",
    "\n"
   ]
  },
  {
   "cell_type": "markdown",
   "metadata": {},
   "source": [
    "    5)"
   ]
  },
  {
   "cell_type": "code",
   "execution_count": 45,
   "metadata": {},
   "outputs": [
    {
     "name": "stdout",
     "output_type": "stream",
     "text": [
      "The confidence interval is:  [146.67552673 165.87349287]\n",
      "The prediction interval is:  [132.00238933 184.31167845]\n",
      "The inverstement is:  155.97942793105494\n"
     ]
    }
   ],
   "source": [
    "def confidence_interval(gnp = 1000, alpha = 0.1):\n",
    "    inverstement  = np.exp(b0 + b1 * np.log(gnp))\n",
    "\n",
    "    # confidence and prediction intervals\n",
    "    t_quantile = t.ppf(1 - (alpha / 2), len(invest[\"invest_log\"]) - 2)\n",
    "\n",
    "    n = len(invest[\"invest_log\"])\n",
    "    # confidence interval\n",
    "    CI = [b0 + b1*np.log(gnp) - t_quantile * np.sqrt(sigma2) * np.sqrt((1/n) + ( ( np.log(gnp) - invest[\"gnp_log\"].mean())**2 / ( np.sum((invest[\"gnp_log\"] - invest[\"gnp_log\"].mean() )**2)))), b0 + b1*np.log(gnp) + t_quantile * np.sqrt(sigma2) * np.sqrt((1/n) + ( ( np.log(gnp) - invest[\"gnp_log\"].mean())**2 / ( np.sum((invest[\"gnp_log\"] - invest[\"gnp_log\"].mean() )**2))) )]\n",
    "\n",
    "    # prediction interval\n",
    "    PI = [b0 + b1*np.log(gnp) - t_quantile * np.sqrt(sigma2) * np.sqrt(1 + (1/n) + ( ( np.log(gnp) - invest[\"gnp_log\"].mean())**2 / ( np.sum((invest[\"gnp_log\"] - invest[\"gnp_log\"].mean() )**2))) ), b0 + b1*np.log(gnp) + t_quantile * np.sqrt(sigma2) * np.sqrt(1 + (1/n) + ( ( np.log(gnp) - invest[\"gnp_log\"].mean())**2 / ( np.sum((invest[\"gnp_log\"] - invest[\"gnp_log\"].mean() )**2))) )]\n",
    "\n",
    "    return CI, PI, inverstement\n",
    "\n",
    "CI, PI, inverstement = confidence_interval()\n",
    "print(\"The confidence interval is: \", np.exp(CI))\n",
    "print(\"The prediction interval is: \", np.exp(PI))\n",
    "print(\"The inverstement is: \", inverstement)"
   ]
  },
  {
   "cell_type": "code",
   "execution_count": 46,
   "metadata": {},
   "outputs": [
    {
     "data": {
      "image/png": "[encoded data removed]",
      "text/plain": [
       "<Figure size 640x480 with 1 Axes>"
      ]
     },
     "metadata": {},
     "output_type": "display_data"
    }
   ],
   "source": [
    "# On a plot with logarithmic axes (GNP as abscissa and Investment as ordinate), plot the data, the estimated regression line, the confidence and prediction intervals for all values of log(GNP) between its minimum and maximum in the data set.\n",
    "\n",
    "plt.scatter(invest[\"gnp_log\"], invest[\"invest_log\"])\n",
    "plt.xlabel(\"GNP\")\n",
    "plt.ylabel(\"Investment\")\n",
    "# regression line\n",
    "plt.plot(invest[\"gnp_log\"], b0 + b1 * invest[\"gnp_log\"], color=\"red\", label=\"regression line\")\n",
    "# confidence intervals\n",
    "ci0 = []\n",
    "ci1 = []\n",
    "pi0 = []\n",
    "pi1 = []\n",
    "for x in invest[\"gnp\"]:\n",
    "    CI, PI, investe = confidence_interval(x, 0.1)\n",
    "    ci0.append(CI[0])\n",
    "    ci1.append(CI[1])\n",
    "    pi0.append(PI[0])\n",
    "    pi1.append(PI[1])\n",
    "\n",
    "# plot the intervals\n",
    "plt.fill_between(invest[\"gnp_log\"], ci0, ci1, color='b', alpha=.2, label=\"confidence interval\")\n",
    "plt.fill_between(invest[\"gnp_log\"], pi0, pi1, color='g', alpha=.2, label=\"prediction interval\")\n",
    "plt.legend()\n",
    "plt.show()"
   ]
  },
  {
   "cell_type": "markdown",
   "metadata": {},
   "source": [
    "    7 ) "
   ]
  },
  {
   "cell_type": "code",
   "execution_count": 47,
   "metadata": {},
   "outputs": [
    {
     "name": "stdout",
     "output_type": "stream",
     "text": [
      "The intercept is:  [5.02993791]\n",
      "The slope is:  [[0.15496368]]\n",
      "-------------------------------------------\n",
      "The investment for GNP = 1000 is:  [[159.99362149]]\n",
      "The determination coefficient is:  0.946362204399403\n"
     ]
    }
   ],
   "source": [
    "from sklearn.linear_model import LinearRegression\n",
    "from sklearn.metrics import r2_score\n",
    "\n",
    "X = invest[\"gnp\"].values.reshape(-1, 1)\n",
    "y = invest[\"invest\"].values.reshape(-1, 1)\n",
    "reg = LinearRegression().fit(X, y)\n",
    "print(\"The intercept is: \", reg.intercept_)\n",
    "print(\"The slope is: \", reg.coef_)\n",
    "# for gnp = 1000\n",
    "print(\"-------------------------------------------\")\n",
    "print(\"The investment for GNP = 1000 is: \", reg.predict(np.array([1000]).reshape(-1, 1)))\n",
    "print(\"The determination coefficient is: \", r2_score(y, reg.predict(X)))"
   ]
  },
  {
   "cell_type": "markdown",
   "metadata": {},
   "source": [
    "    8)"
   ]
  },
  {
   "cell_type": "code",
   "execution_count": 48,
   "metadata": {},
   "outputs": [
    {
     "data": {
      "image/png": "[encoded data removed]",
      "text/plain": [
       "<Figure size 640x480 with 1 Axes>"
      ]
     },
     "metadata": {},
     "output_type": "display_data"
    }
   ],
   "source": [
    "plt.scatter(invest[\"gnp\"], invest[\"invest\"])\n",
    "plt.xlabel(\"GNP\")\n",
    "plt.ylabel(\"Investment\")\n",
    "# sklearn regression line\n",
    "plt.plot(invest[\"gnp\"], reg.predict(np.array(invest[\"gnp\"]).reshape(-1, 1)), color=\"red\", label=\"sklearn\")\n",
    "# my regression line\n",
    "plt.plot(invest[\"gnp\"], np.exp(b0 + b1 * invest[\"gnp_log\"]), color=\"green\", label=\"my regression\")\n",
    "plt.legend()\n",
    "plt.show()"
   ]
  },
  {
   "cell_type": "markdown",
   "metadata": {},
   "source": [
    "    9)"
   ]
  },
  {
   "cell_type": "code",
   "execution_count": 51,
   "metadata": {},
   "outputs": [
    {
     "data": {
      "text/html": [
       "<div>\n",
       "<style scoped>\n",
       "    .dataframe tbody tr th:only-of-type {\n",
       "        vertical-align: middle;\n",
       "    }\n",
       "\n",
       "    .dataframe tbody tr th {\n",
       "        vertical-align: top;\n",
       "    }\n",
       "\n",
       "    .dataframe thead th {\n",
       "        text-align: right;\n",
       "    }\n",
       "</style>\n",
       "<table border=\"1\" class=\"dataframe\">\n",
       "  <thead>\n",
       "    <tr style=\"text-align: right;\">\n",
       "      <th></th>\n",
       "      <th>year</th>\n",
       "      <th>gnp</th>\n",
       "      <th>invest</th>\n",
       "      <th>cpi</th>\n",
       "      <th>interest</th>\n",
       "      <th>gnp_log</th>\n",
       "      <th>invest_log</th>\n",
       "      <th>interest_log</th>\n",
       "    </tr>\n",
       "  </thead>\n",
       "  <tbody>\n",
       "    <tr>\n",
       "      <th>0</th>\n",
       "      <td>1968</td>\n",
       "      <td>873.4</td>\n",
       "      <td>133.3</td>\n",
       "      <td>82.54</td>\n",
       "      <td>5.16</td>\n",
       "      <td>6.772394</td>\n",
       "      <td>4.892602</td>\n",
       "      <td>1.640937</td>\n",
       "    </tr>\n",
       "    <tr>\n",
       "      <th>1</th>\n",
       "      <td>1969</td>\n",
       "      <td>944.0</td>\n",
       "      <td>149.3</td>\n",
       "      <td>86.79</td>\n",
       "      <td>5.87</td>\n",
       "      <td>6.850126</td>\n",
       "      <td>5.005958</td>\n",
       "      <td>1.769855</td>\n",
       "    </tr>\n",
       "    <tr>\n",
       "      <th>2</th>\n",
       "      <td>1970</td>\n",
       "      <td>992.7</td>\n",
       "      <td>144.2</td>\n",
       "      <td>91.45</td>\n",
       "      <td>5.95</td>\n",
       "      <td>6.900429</td>\n",
       "      <td>4.971201</td>\n",
       "      <td>1.783391</td>\n",
       "    </tr>\n",
       "    <tr>\n",
       "      <th>3</th>\n",
       "      <td>1971</td>\n",
       "      <td>1077.6</td>\n",
       "      <td>166.4</td>\n",
       "      <td>96.01</td>\n",
       "      <td>4.88</td>\n",
       "      <td>6.982492</td>\n",
       "      <td>5.114395</td>\n",
       "      <td>1.585145</td>\n",
       "    </tr>\n",
       "    <tr>\n",
       "      <th>4</th>\n",
       "      <td>1972</td>\n",
       "      <td>1185.9</td>\n",
       "      <td>195.0</td>\n",
       "      <td>100.00</td>\n",
       "      <td>4.50</td>\n",
       "      <td>7.078257</td>\n",
       "      <td>5.273000</td>\n",
       "      <td>1.504077</td>\n",
       "    </tr>\n",
       "  </tbody>\n",
       "</table>\n",
       "</div>"
      ],
      "text/plain": [
       "   year     gnp  invest     cpi  interest   gnp_log  invest_log  interest_log\n",
       "0  1968   873.4   133.3   82.54      5.16  6.772394    4.892602      1.640937\n",
       "1  1969   944.0   149.3   86.79      5.87  6.850126    5.005958      1.769855\n",
       "2  1970   992.7   144.2   91.45      5.95  6.900429    4.971201      1.783391\n",
       "3  1971  1077.6   166.4   96.01      4.88  6.982492    5.114395      1.585145\n",
       "4  1972  1185.9   195.0  100.00      4.50  7.078257    5.273000      1.504077"
      ]
     },
     "execution_count": 51,
     "metadata": {},
     "output_type": "execute_result"
    }
   ],
   "source": [
    "# log transformation of interest\n",
    "invest[\"interest_log\"] = np.log(invest[\"interest\"])\n",
    "invest.head()"
   ]
  },
  {
   "cell_type": "code",
   "execution_count": 65,
   "metadata": {},
   "outputs": [
    {
     "name": "stdout",
     "output_type": "stream",
     "text": [
      "-------------------------------------------\n",
      "The Gram matrix is: \n",
      " [[ 15.         110.75282116  29.24044198]\n",
      " [110.75282116 820.24847688 217.59802073]\n",
      " [ 29.24044198 217.59802073  58.6793618 ]]\n"
     ]
    }
   ],
   "source": [
    "# Gram matrix \n",
    "\n",
    "# features matrix\n",
    "X = np.array([np.ones(len(invest[\"gnp_log\"])), invest[\"gnp_log\"], invest[\"interest_log\"]]).T\n",
    "\n",
    "G = np.dot(X.T, X)\n",
    "print(\"The Gram matrix is: \\n\",   G)"
   ]
  },
  {
   "cell_type": "code",
   "execution_count": 60,
   "metadata": {},
   "outputs": [
    {
     "name": "stdout",
     "output_type": "stream",
     "text": [
      "The rank of the Gram matrix is:  3\n",
      "The Gram matrix is full rank.\n"
     ]
    }
   ],
   "source": [
    "# Is the gram matrix full rank ?\n",
    "print(\"The rank of the Gram matrix is: \", np.linalg.matrix_rank(G))\n",
    "print(\"The Gram matrix is full rank.\")"
   ]
  },
  {
   "cell_type": "markdown",
   "metadata": {},
   "source": [
    "    10) For the linear regression of Investment on GNP and Interest, estimate the three regression coefficients and their standard deviations, as well as the determination coefficient for the ordinary least squares. Additionally, test significance of each coefficient using the Student-t test. Report the regression coefficients, corresponding to them p-values, and the determination coefficient in a readable form. Discuss significance of the estimated regression coefficients."
   ]
  },
  {
   "cell_type": "markdown",
   "metadata": {},
   "source": [
    "Using the normal equation we can give the values of the three regression coefficients."
   ]
  },
  {
   "cell_type": "code",
   "execution_count": 61,
   "metadata": {},
   "outputs": [
    {
     "name": "stdout",
     "output_type": "stream",
     "text": [
      "The regression coefficients are:  [-2.10518344  1.04664338 -0.0461534 ]\n"
     ]
    }
   ],
   "source": [
    "# The inverse of the Gram matrix\n",
    "G_inv = np.linalg.inv(G)\n",
    "\n",
    "reg_coeffs = np.dot(np.dot(G_inv, X.T), invest[\"invest_log\"])\n",
    "print(\"The regression coefficients are: \", reg_coeffs)"
   ]
  },
  {
   "cell_type": "code",
   "execution_count": 64,
   "metadata": {},
   "outputs": [
    {
     "name": "stdout",
     "output_type": "stream",
     "text": [
      "The estimator of sigma squared is:  0.008223096871434373\n",
      "---------------------------------------------------------------------\n",
      "The estimated regression line is: invest =  -2.1051834412530344  +  1.046643377666947  * gnp +  -0.046153397317167055  * interest\n",
      "The standard deviation of the intercept is:  0.5722761034658185\n",
      "The standard deviation of the slope is:  0.1026549177932065\n",
      "The standard deviation of the interest is:  0.12532492393277836\n"
     ]
    }
   ],
   "source": [
    "# The standard deviation of the regression coefficients :\n",
    "sigma2 = np.sum((invest[\"invest_log\"] - reg_coeffs[0] - reg_coeffs[1] * invest[\"gnp_log\"] - reg_coeffs[2] * invest[\"interest_log\"]) ** 2) / (len(invest[\"invest_log\"]) - 3)\n",
    "print(\"The estimator of sigma squared is: \", sigma2)\n",
    "\n",
    "# standard deviation of the intercept and the slope\n",
    "var_b0 = sigma2 * G_inv[0][0]\n",
    "var_b1 = sigma2 * G_inv[1][1]\n",
    "var_b2 = sigma2 * G_inv[2][2]\n",
    "\n",
    "# printing the results\n",
    "print(\"---------------------------------------------------------------------\")\n",
    "print(\"The estimated regression line is: invest = \", reg_coeffs[0], \" + \", reg_coeffs[1], \" * gnp + \", reg_coeffs[2], \" * interest\")\n",
    "print(\"The standard deviation of the intercept is: \", np.sqrt(var_b0))\n",
    "print(\"The standard deviation of the slope is: \", np.sqrt(var_b1))\n",
    "print(\"The standard deviation of the interest is: \", np.sqrt(var_b2))\n"
   ]
  },
  {
   "cell_type": "code",
   "execution_count": 85,
   "metadata": {},
   "outputs": [
    {
     "name": "stdout",
     "output_type": "stream",
     "text": [
      "The reduced regression coefficients are:  [-3.67861497 10.19574513 -0.3682699 ] , These values are the t-test statistics.\n",
      "The t-quantile is:  1.782287555649159\n",
      "\n",
      " -------------------------------------------\n",
      "The p-values are:  [3.15681643e-03 2.90338757e-07 7.19086465e-01]\n"
     ]
    }
   ],
   "source": [
    "\n",
    "reduced_reg_coeff = reg_coeffs / np.sqrt(np.array([var_b0, var_b1, var_b2]))\n",
    "print(\"The reduced regression coefficients are: \", reduced_reg_coeff,\", These values are the t-test statistics.\")\n",
    "# Student's t distribution quantile for a 10% risk\n",
    "t_quantile = t.ppf(1 - (0.1 / 2), len(invest[\"invest_log\"]) - 3)\n",
    "print(\"The t-quantile is: \", t_quantile)\n",
    "\n",
    "# p-values \n",
    "print(\"\\n -------------------------------------------\")\n",
    "p_val = 2 * (1 - t.cdf(np.abs(reduced_reg_coeff), len(invest[\"gnp\"])-3))\n",
    "print(\"The p-values are: \", p_val)"
   ]
  },
  {
   "cell_type": "code",
   "execution_count": 78,
   "metadata": {},
   "outputs": [
    {
     "name": "stdout",
     "output_type": "stream",
     "text": [
      "The determination coefficient is:  0.9631735047268832\n"
     ]
    }
   ],
   "source": [
    "# The determination coefficient\n",
    "R2 = np.sum((reg_coeffs[0] + reg_coeffs[1] * invest[\"gnp_log\"] + reg_coeffs[2] * invest[\"interest_log\"] - invest[\"invest_log\"].mean()) ** 2) / np.sum((invest[\"invest_log\"] - invest[\"invest_log\"].mean()) ** 2)\n",
    "print(\"The determination coefficient is: \", R2)"
   ]
  },
  {
   "cell_type": "markdown",
   "metadata": {},
   "source": [
    "We can remark that "
   ]
  },
  {
   "cell_type": "markdown",
   "metadata": {},
   "source": [
    "    11)"
   ]
  }
 ],
 "metadata": {
  "kernelspec": {
   "display_name": "Python 3",
   "language": "python",
   "name": "python3"
  },
  "language_info": {
   "codemirror_mode": {
    "name": "ipython",
    "version": 3
   },
   "file_extension": ".py",
   "mimetype": "text/x-python",
   "name": "python",
   "nbconvert_exporter": "python",
   "pygments_lexer": "ipython3",
   "version": "3.10.11"
  }
 },
 "nbformat": 4,
 "nbformat_minor": 2
}
